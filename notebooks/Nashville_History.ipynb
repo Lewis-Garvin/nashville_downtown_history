{
 "cells": [
  {
   "cell_type": "markdown",
   "id": "9bfaa4b8",
   "metadata": {},
   "source": [
    "# Nashville_History"
   ]
  },
  {
   "cell_type": "code",
   "execution_count": null,
   "id": "d92245f0",
   "metadata": {},
   "outputs": [],
   "source": [
    "from shapely.geometry import Point\n",
    "import pandas as pd\n",
    "import geopandas as gpd\n",
    "import matplotlib.pyplot as plt\n",
    "import folium\n",
    "from folium.plugins import MarkerCluster\n",
    "from folium.plugins import FastMarkerCluster"
   ]
  },
  {
   "cell_type": "markdown",
   "id": "1f834355",
   "metadata": {},
   "source": [
    "## Council Districts"
   ]
  },
  {
   "cell_type": "code",
   "execution_count": null,
   "id": "4f800a36",
   "metadata": {},
   "outputs": [],
   "source": [
    "districts = gpd.read_file('../data/Council District Outlines (GIS).geojson')\n",
    "print(districts.crs)\n",
    "districts.head()"
   ]
  },
  {
   "cell_type": "code",
   "execution_count": null,
   "id": "ff4c322b",
   "metadata": {},
   "outputs": [],
   "source": [
    "districts = districts[['council_district', 'geometry']]"
   ]
  },
  {
   "cell_type": "code",
   "execution_count": null,
   "id": "5e076b35",
   "metadata": {},
   "outputs": [],
   "source": [
    "#leg_districts = {'title':'Council Districts', 'loc':'upper left','bbox_to_anchor':(1,1.01),'ncol':2}\n",
    "\n",
    "#districts.plot(column = 'council_district', figsize=(10, 10),\n",
    "#               edgecolor = 'black',\n",
    "#               legend = True, legend_kwds = leg_districts,\n",
    "#               cmap = 'Set3')\n",
    "#plt.show();\n",
    "\n",
    "fig, ax = plt.subplots(figsize = (10,10))\n",
    "districts.plot(ax = ax, \n",
    "               column = 'council_district', \n",
    "               cmap = 'Set3',\n",
    "               edgecolor = 'black')\n",
    "ax.axis('off')\n",
    "\n",
    "for index, row in districts.iterrows():\n",
    "    \n",
    "    x=row['geometry'].centroid.x\n",
    "    y=row['geometry'].centroid.y\n",
    "\n",
    "    if row.council_district == '18':\n",
    "        x=x #+ 0.02\n",
    "        y=y - 0.005\n",
    "    elif row.council_district == '19':\n",
    "        x=x - 0.013\n",
    "        y=y - 0.004\n",
    "        \n",
    "    plt.annotate(text=row['council_district'],\n",
    "                 xy=(x, y),\n",
    "                 horizontalalignment='center', fontweight='bold')\n",
    "\n",
    "plt.title('Nashville Council Districts')\n",
    "plt.show();"
   ]
  },
  {
   "cell_type": "code",
   "execution_count": null,
   "id": "82b0c73a",
   "metadata": {},
   "outputs": [],
   "source": []
  },
  {
   "cell_type": "markdown",
   "id": "2819d41e",
   "metadata": {},
   "source": [
    "## Historical Markers"
   ]
  },
  {
   "cell_type": "code",
   "execution_count": null,
   "id": "f4ef06a0",
   "metadata": {},
   "outputs": [],
   "source": [
    "hist_markers = gpd.read_file('../data/Historical Markers.geojson')\n",
    "print(hist_markers.crs)\n",
    "print(hist_markers.shape)\n",
    "hist_markers.head()"
   ]
  },
  {
   "cell_type": "markdown",
   "id": "d3923731",
   "metadata": {},
   "source": [
    "## Historical Commission Preservation Awards"
   ]
  },
  {
   "cell_type": "code",
   "execution_count": null,
   "id": "16177409",
   "metadata": {},
   "outputs": [],
   "source": [
    "hist_awards = gpd.read_file('../data/Historical Commission Preservation Awards.geojson')\n",
    "print(hist_awards.crs)\n",
    "print(hist_awards.shape)\n",
    "hist_awards.head()"
   ]
  },
  {
   "cell_type": "markdown",
   "id": "9bf975df",
   "metadata": {},
   "source": [
    "## Spatial Joins"
   ]
  },
  {
   "cell_type": "code",
   "execution_count": null,
   "id": "d7904865",
   "metadata": {},
   "outputs": [],
   "source": [
    "hist_markers_by_district = gpd.sjoin(hist_markers, districts, op = 'within')\n",
    "\n",
    "hist_awards_by_district = gpd.sjoin(hist_awards, districts, op = 'within')"
   ]
  },
  {
   "cell_type": "code",
   "execution_count": null,
   "id": "e12b0341",
   "metadata": {
    "scrolled": true
   },
   "outputs": [],
   "source": [
    "hist_markers_by_district.council_district.value_counts()\n",
    "#District 19 has 72 historical markers\n",
    "\n",
    "hist_awards_by_district.council_district.value_counts()\n",
    "#District 19 has 157 historical commission preservation awards"
   ]
  },
  {
   "cell_type": "markdown",
   "id": "de202cbe",
   "metadata": {},
   "source": [
    "## District 19"
   ]
  },
  {
   "cell_type": "code",
   "execution_count": null,
   "id": "d27a8fc5",
   "metadata": {},
   "outputs": [],
   "source": [
    "polygon_d19 = districts.loc[districts.council_district == '19']\n",
    "polygon_d19.shape"
   ]
  },
  {
   "cell_type": "code",
   "execution_count": null,
   "id": "8fb0dcac",
   "metadata": {
    "scrolled": true
   },
   "outputs": [],
   "source": [
    "hist_markers_in_district19 = hist_markers_by_district.loc[hist_markers_by_district.council_district == '19']\n",
    "print(hist_markers_in_district19.shape)\n",
    "hist_markers_in_district19.head()"
   ]
  },
  {
   "cell_type": "code",
   "execution_count": null,
   "id": "d247e4af",
   "metadata": {},
   "outputs": [],
   "source": [
    "hist_awards_in_district19 = hist_awards_by_district.loc[hist_awards_by_district.council_district == '19']\n",
    "print(hist_awards_in_district19.shape)\n",
    "hist_awards_in_district19.head()"
   ]
  },
  {
   "cell_type": "code",
   "execution_count": null,
   "id": "8337f1e8",
   "metadata": {},
   "outputs": [],
   "source": [
    "# Historical Markers in Council District 19\n",
    "\n",
    "ax = polygon_d19.plot(figsize = (8, 10), color = 'lightgreen')\n",
    "hist_markers_in_district19.plot(ax = ax)\n",
    "plt.title('Historical Markers in Council District 19')\n",
    "plt.show();"
   ]
  },
  {
   "cell_type": "code",
   "execution_count": null,
   "id": "ea3e1040",
   "metadata": {
    "scrolled": false
   },
   "outputs": [],
   "source": [
    "# Historical Commision Preservation Awards in Council District 19\n",
    "\n",
    "leg_awards = {'title':'Preservation Award Category', 'loc':'upper left','bbox_to_anchor':(1,1.01),'ncol':1}\n",
    "\n",
    "az = polygon_d19.plot(figsize = (8, 10), color = 'lightgreen')\n",
    "hist_awards_in_district19.plot(ax = az, column = 'category', legend = True, legend_kwds = leg_awards)\n",
    "plt.title('Historical Commision Preservation Awards in Council District 19')\n",
    "plt.show();"
   ]
  },
  {
   "cell_type": "markdown",
   "id": "c6e55988",
   "metadata": {},
   "source": [
    "## Folium Base Map"
   ]
  },
  {
   "cell_type": "code",
   "execution_count": null,
   "id": "551800a7",
   "metadata": {
    "scrolled": true
   },
   "outputs": [],
   "source": [
    "polygon_d19.geometry.centroid"
   ]
  },
  {
   "cell_type": "code",
   "execution_count": null,
   "id": "c3ec85b4",
   "metadata": {},
   "outputs": [],
   "source": [
    "center = polygon_d19.geometry.centroid[18]\n",
    "print(center)"
   ]
  },
  {
   "cell_type": "code",
   "execution_count": null,
   "id": "6b496173",
   "metadata": {},
   "outputs": [],
   "source": [
    "area_center = [center.y + 0.003, center.x]\n",
    "print(area_center)"
   ]
  },
  {
   "cell_type": "code",
   "execution_count": null,
   "id": "dd6520d7",
   "metadata": {
    "scrolled": true
   },
   "outputs": [],
   "source": []
  },
  {
   "cell_type": "markdown",
   "id": "598035e6",
   "metadata": {},
   "source": [
    "## Folium Maps with Markers"
   ]
  },
  {
   "cell_type": "code",
   "execution_count": null,
   "id": "f7ebf621",
   "metadata": {
    "scrolled": false
   },
   "outputs": [],
   "source": [
    "# Historical Markers in Council District 19\n",
    "\n",
    "#Draw the district\n",
    "map_hmarkers_district19 = folium.Map(location = area_center, \n",
    "                                     zoom_start = 14,\n",
    "                                     min_zoom = 12)\n",
    "\n",
    "folium.GeoJson(polygon_d19).add_to(map_hmarkers_district19)\n",
    "\n",
    "#Add title\n",
    "title_hm_d19 = 'Historical Markers in Council District 19'\n",
    "title_hm_d19_html = '''<h3 align=\"center\" style=\"font-size:16px\"><b>{}</b></h3>'''.format(title_hm_d19)\n",
    "map_hmarkers_district19.get_root().html.add_child(folium.Element(title_hm_d19_html))\n",
    "\n",
    "#iterate through historical markers to create locations and markers for each historical marker.\n",
    "\n",
    "for row_index, row_values in hist_markers_in_district19.iterrows():\n",
    "    loc = [row_values['latitude'], row_values['longitude']] \n",
    "    pop = str(row_values['marker_name']) + '<br><br>' + 'Erected ' + str(row_values['year_erected'])\n",
    "    icon= folium.Icon(color=\"blue\",icon=\"info-circle\", prefix='fa')\n",
    "        \n",
    "    marker = folium.Marker(\n",
    "        location = loc,\n",
    "        popup = pop, \n",
    "        icon = icon)\n",
    "    \n",
    "    marker.add_to(map_hmarkers_district19)\n",
    "map_hmarkers_district19.save('../maps/map_histmarkers_district19.html')\n",
    "\n",
    "map_hmarkers_district19"
   ]
  },
  {
   "cell_type": "code",
   "execution_count": null,
   "id": "bc5745b9",
   "metadata": {},
   "outputs": [],
   "source": [
    "# Historical Commision Preservation Awards in Council District 19\n",
    "\n",
    "#Draw the district\n",
    "map_hawards_district19 = folium.Map(location = area_center, \n",
    "                                    zoom_start = 14,\n",
    "                                    min_zoom = 12)\n",
    "\n",
    "folium.GeoJson(polygon_d19).add_to(map_hawards_district19)\n",
    "\n",
    "#add title\n",
    "title_ha_d19 = 'Historical Commission Preservation Awards in Council District 19'\n",
    "title_ha_d19_html = '''<h3 align=\"center\" style=\"font-size:16px\"><b>{}</b></h3>'''.format(title_ha_d19)\n",
    "map_hawards_district19.get_root().html.add_child(folium.Element(title_ha_d19_html))\n",
    "\n",
    "#iterate through preservation awards to create locations and markers for each preservation award.\n",
    "\n",
    "for row_index, row_values in hist_awards_in_district19.iterrows():\n",
    "    loc = [row_values.geometry.y, row_values.geometry.x]\n",
    "    pop = str(row_values['building_name'])+'<br><br>'+str(row_values['category']+',<br>Awarded '+ str(row_values['year']))\n",
    "    \n",
    "    #icon= folium.Icon(color=\"darkblue\",icon=\"home\", prefix='fa')\n",
    "    \n",
    "    if row_values.category == 'Commercial':\n",
    "        icon= folium.Icon(color=\"blue\",icon=\"building\", prefix='fa')\n",
    "    elif row_values.category == 'Educational/Institutional':\n",
    "        icon= folium.Icon(color=\"green\",icon=\"university\", prefix='fa') \n",
    "    elif row_values.category == 'Engineering/Industrial':\n",
    "        icon= folium.Icon(color=\"gray\",icon=\"industry\", prefix='fa')    \n",
    "    elif row_values.category == 'Infill':\n",
    "        icon= folium.Icon(color=\"darkgreen\",icon=\"building-o\", prefix='fa')    \n",
    "    elif row_values.category == 'Mixed Use':\n",
    "        icon= folium.Icon(color=\"purple\",icon=\"shopping-bag\", prefix='fa')    \n",
    "    elif row_values.category == 'Neighborhood':\n",
    "        icon= folium.Icon(color=\"darkpurple\",icon=\"users\", prefix='fa') \n",
    "    elif row_values.category == 'Public Buildings':\n",
    "        icon= folium.Icon(color=\"darkblue\",icon=\"institution\", prefix='fa')  \n",
    "    elif row_values.category == 'Religious':\n",
    "        icon= folium.Icon(color=\"orange\",icon=\"universal-access\", prefix='fa')\n",
    "    else: #row_values.category == 'Residential':\n",
    "        icon= folium.Icon(color=\"lightgray\",icon=\"home\", prefix='fa')  \n",
    "        \n",
    "    marker = folium.Marker(\n",
    "        location = loc,\n",
    "        popup = pop, \n",
    "        icon = icon)\n",
    "    \n",
    "    marker.add_to(map_hawards_district19)\n",
    "map_hawards_district19.save('../maps/map_histawards_district19.html')\n",
    "\n",
    "map_hawards_district19"
   ]
  },
  {
   "cell_type": "code",
   "execution_count": null,
   "id": "925f40c7",
   "metadata": {},
   "outputs": [],
   "source": [
    "#folium.Map?"
   ]
  },
  {
   "cell_type": "markdown",
   "id": "11676cf5",
   "metadata": {},
   "source": [
    "## Marker Cluster"
   ]
  },
  {
   "cell_type": "code",
   "execution_count": null,
   "id": "092701d2",
   "metadata": {
    "scrolled": false
   },
   "outputs": [],
   "source": [
    "# Historical Markers & Historical Commission Preservation Awards in Council District 19\n",
    "\n",
    "cluster_map_district19 = folium.Map(location = area_center, \n",
    "                                    zoom_start = 14,\n",
    "                                    min_zoom = 12,\n",
    "                                    #crs='EPSG4326',  #This moved the base map to Norway???\n",
    "                                    tiles='OpenStreetMap'  #default -- none of the others work\n",
    "                                    #tiles='Stamen'\n",
    "                                    #tiles='Mapbox Bright'\n",
    "                                    #tiles='Mapbox Control Room'\n",
    "                                   )\n",
    "\n",
    "marker_cluster = MarkerCluster().add_to(cluster_map_district19)\n",
    "\n",
    "folium.GeoJson(polygon_d19).add_to(cluster_map_district19)\n",
    "\n",
    "#add title\n",
    "title_hmha_d19 = 'Historical Markers and Preservation Awards in Council District 19'\n",
    "title_hmha_d19_html = '''<h3 align=\"center\" style=\"font-size:16px\"><b>{}</b></h3>'''.format(title_hmha_d19)\n",
    "cluster_map_district19.get_root().html.add_child(folium.Element(title_hmha_d19_html))\n",
    "\n",
    "for row_index, row_values in hist_markers_in_district19.iterrows():\n",
    "    loc = [row_values.latitude, row_values.longitude]\n",
    "    pop = str(row_values['marker_name']) + '<br><br>' + 'Erected ' + str(row_values['year_erected'])\n",
    "    icon= folium.Icon(color=\"blue\", icon=\"info-circle\", prefix='fa')\n",
    "    \n",
    "    marker = folium.Marker(\n",
    "        location = loc,\n",
    "        popup = pop,\n",
    "        icon = icon)\n",
    "    \n",
    "    marker.add_to(marker_cluster)\n",
    "\n",
    "for row_index, row_values in hist_awards_in_district19.iterrows():\n",
    "    loc = [row_values.geometry.y, row_values.geometry.x]\n",
    "    pop = str(row_values['building_name'])+'<br><br>'+str(row_values['category']+',<br>Awarded '+ str(row_values['year']))\n",
    "    #icon= folium.Icon(color=\"darkblue\", icon=\"home\", prefix='fa')\n",
    "\n",
    "    if row_values.category == 'Commercial':\n",
    "        icon= folium.Icon(color=\"darkblue\",icon=\"building\", prefix='fa')\n",
    "    elif row_values.category == 'Educational/Institutional':\n",
    "        icon= folium.Icon(color=\"darkblue\",icon=\"university\", prefix='fa')\n",
    "    elif row_values.category == 'Engineering/Industrial':\n",
    "        icon= folium.Icon(color=\"darkblue\",icon=\"industry\", prefix='fa')    \n",
    "    elif row_values.category == 'Infill':\n",
    "        icon= folium.Icon(color=\"darkblue\",icon=\"building-o\", prefix='fa')    \n",
    "    elif row_values.category == 'Mixed Use':\n",
    "        icon= folium.Icon(color=\"darkblue\",icon=\"shopping-bag\", prefix='fa')    \n",
    "    elif row_values.category == 'Neighborhood':\n",
    "        icon= folium.Icon(color=\"darkblue\",icon=\"users\", prefix='fa')    \n",
    "    elif row_values.category == 'Public Buildings':\n",
    "        icon= folium.Icon(color=\"darkblue\",icon=\"institution\", prefix='fa')\n",
    "    elif row_values.category == 'Religious':\n",
    "        icon= folium.Icon(color=\"darkblue\",icon=\"universal-access\", prefix='fa')\n",
    "    else: #row_values.category == 'Residential':\n",
    "        icon= folium.Icon(color=\"darkblue\",icon=\"home\", prefix='fa')\n",
    "    \n",
    "    marker = folium.Marker(\n",
    "        location = loc,\n",
    "        popup = pop,\n",
    "        icon = icon)\n",
    "    \n",
    "    marker.add_to(marker_cluster)\n",
    "\n",
    "    \n",
    "cluster_map_district19.save('../maps/cluster_district12.html')\n",
    "\n",
    "cluster_map_district19"
   ]
  },
  {
   "cell_type": "code",
   "execution_count": null,
   "id": "64979921",
   "metadata": {},
   "outputs": [],
   "source": []
  },
  {
   "cell_type": "code",
   "execution_count": null,
   "id": "058901c9",
   "metadata": {},
   "outputs": [],
   "source": []
  }
 ],
 "metadata": {
  "kernelspec": {
   "display_name": "Python 3 (ipykernel)",
   "language": "python",
   "name": "python3"
  },
  "language_info": {
   "codemirror_mode": {
    "name": "ipython",
    "version": 3
   },
   "file_extension": ".py",
   "mimetype": "text/x-python",
   "name": "python",
   "nbconvert_exporter": "python",
   "pygments_lexer": "ipython3",
   "version": "3.8.5"
  }
 },
 "nbformat": 4,
 "nbformat_minor": 5
}
